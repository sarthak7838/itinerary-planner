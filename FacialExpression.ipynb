{
  "nbformat": 4,
  "nbformat_minor": 0,
  "metadata": {
    "colab": {
      "name": "FacialExpression.ipynb",
      "version": "0.3.2",
      "views": {},
      "default_view": {},
      "provenance": [],
      "collapsed_sections": []
    },
    "kernelspec": {
      "name": "python3",
      "display_name": "Python 3"
    },
    "accelerator": "GPU"
  },
  "cells": [
    {
      "metadata": {
        "id": "fI-yJ1inD4Uo",
        "colab_type": "code",
        "colab": {
          "autoexec": {
            "startup": false,
            "wait_interval": 0
          },
          "output_extras": [
            {
              "item_id": 5
            }
          ],
          "base_uri": "https://localhost:8080/",
          "height": 122
        },
        "outputId": "eca8a194-8362-4210-cf16-ec9443bccf5a",
        "executionInfo": {
          "status": "ok",
          "timestamp": 1521440219071,
          "user_tz": -330,
          "elapsed": 17737,
          "user": {
            "displayName": "SANDIPAN DUTTA",
            "photoUrl": "https://lh3.googleusercontent.com/a/default-user=s128",
            "userId": "102450403374348337298"
          }
        }
      },
      "cell_type": "code",
      "source": [
        "# Install a Drive FUSE wrapper.\n",
        "# https://github.com/astrada/google-drive-ocamlfuse\n",
        "!apt-get install -y -qq software-properties-common python-software-properties module-init-tools\n",
        "!add-apt-repository -y ppa:alessandro-strada/ppa 2>&1 > /dev/null\n",
        "!apt-get update -qq 2>&1 > /dev/null\n",
        "!apt-get -y install -qq google-drive-ocamlfuse fuse\n",
        "\n",
        "# Generate auth tokens for Colab\n",
        "from google.colab import auth\n",
        "auth.authenticate_user()\n",
        "\n",
        "# Generate creds for the Drive FUSE library.\n",
        "from oauth2client.client import GoogleCredentials\n",
        "creds = GoogleCredentials.get_application_default()\n",
        "import getpass\n",
        "!google-drive-ocamlfuse -headless -id={creds.client_id} -secret={creds.client_secret} < /dev/null 2>&1 | grep URL\n",
        "vcode = getpass.getpass()\n",
        "!echo {vcode} | google-drive-ocamlfuse -headless -id={creds.client_id} -secret={creds.client_secret}\n",
        "\n",
        "# Create a directory and mount Google Drive using that directory.\n",
        "!mkdir -p drive\n",
        "!google-drive-ocamlfuse drive\n",
        "\n",
        "import os\n",
        "print(os.listdir('drive'))\n",
        "\n",
        "# import sys\n",
        "# sys.path.append('drive/places_fc2')\n",
        "# sys.path.append('drive/cnn')"
      ],
      "execution_count": 1,
      "outputs": [
        {
          "output_type": "stream",
          "text": [
            "Please, open the following URL in a web browser: https://accounts.google.com/o/oauth2/auth?client_id=32555940559.apps.googleusercontent.com&redirect_uri=urn%3Aietf%3Awg%3Aoauth%3A2.0%3Aoob&scope=https%3A%2F%2Fwww.googleapis.com%2Fauth%2Fdrive&response_type=code&access_type=offline&approval_prompt=force\r\n",
            "··········\n",
            "Please, open the following URL in a web browser: https://accounts.google.com/o/oauth2/auth?client_id=32555940559.apps.googleusercontent.com&redirect_uri=urn%3Aietf%3Awg%3Aoauth%3A2.0%3Aoob&scope=https%3A%2F%2Fwww.googleapis.com%2Fauth%2Fdrive&response_type=code&access_type=offline&approval_prompt=force\n",
            "Please enter the verification code: Access token retrieved correctly.\n",
            "['.Trash', 'open-flask', 'facial', 'control ', 'control 1', 'Document from Sandipan Dutta', 'dbms2', 'Document from Sandipan Dutta (b9c87a83)', 'bio', 'xray', 'gan', 'Copy of Interspeech.ipynb', 'siamese', 'tfsiamese', 'capgen', 'data', 'imgcap', 'Colab Notebooks', 'GupShup', 'Music Recommender', 'Distilled AI', 'springerformat.doc', 'Untitled document.odt', 'Computer Graphics', 'ComputerGraphics_Programs.zip', 'Friends Season 6', 'F.R.I.E.N.D.S season -5', 'Friends Season 4', 'Copy of Dataset.tar.gz', 'TV', 'FIFA', 'shimla', 'kerala', 'agra', 'kashmir', 'Friends', 'Private ', 'khatu jai', 'jaipur', '5004-deep-content-based-music-recommendation.pdf.odt', '5004-deep-content-based-music-recommendation.pdf', 'myproj', 'COE-211 Electronics II .pdf', 'A. C. Muller and S. Guido - Introduction to Machine Learning with Python - 2017.pdf', 'ANNUAL DAY', 'DISPLAY DEVICES AND RECORDERS.docx', 'EM.pptx', 'Google Photos', 'mi pic and vid', 'Getting started', 'vid']\n"
          ],
          "name": "stdout"
        }
      ]
    },
    {
      "metadata": {
        "id": "66W-9JugVKi3",
        "colab_type": "code",
        "colab": {
          "autoexec": {
            "startup": false,
            "wait_interval": 0
          }
        }
      },
      "cell_type": "code",
      "source": [
        ""
      ],
      "execution_count": 0,
      "outputs": []
    },
    {
      "metadata": {
        "id": "It68j6-iD8cl",
        "colab_type": "code",
        "colab": {
          "autoexec": {
            "startup": false,
            "wait_interval": 0
          }
        }
      },
      "cell_type": "code",
      "source": [
        "#script for preparing datasets, loading fer data and generating scaled images \n",
        "import pandas as pd\n",
        "import numpy as np\n",
        "\n",
        "#make a directory, keep the fer2013.csv file in the directory and also the git in the same. Otherwise, change the directory in the scripts\n",
        "#load fer2013.csv\n",
        "\n",
        "data = pd.read_csv('drive/facial/fer2013.csv')\n",
        "data = data['pixels']\n",
        "data = [ dat.split() for dat in data]\n",
        "data = np.array(data)\n",
        "data = data.astype('float64')\n",
        "data = [[np.divide(d,255.0) for d in dat] for dat in data]\n",
        "\n",
        "np.save('drive/facial/data/Scaled.bin.npy',data)\n"
      ],
      "execution_count": 0,
      "outputs": []
    },
    {
      "metadata": {
        "id": "YAihNpzuUv6t",
        "colab_type": "code",
        "colab": {
          "autoexec": {
            "startup": false,
            "wait_interval": 0
          }
        }
      },
      "cell_type": "code",
      "source": [
        "import numpy as np\n",
        "import pandas as pd\n",
        "import cv2\n",
        "data = pd.read_csv('drive/facial/fer2013.csv')\n",
        "pixels = data['pixels'].tolist()\n",
        "width, height = 48, 48\n",
        "faces = []\n",
        "for pixel_sequence in pixels:\n",
        "    face = [int(pixel) for pixel in pixel_sequence.split(' ')]\n",
        "    face = np.asarray(face).reshape(width, height)\n",
        "    face = cv2.resize(face.astype('uint8'), (64,64))\n",
        "    faces.append(face.astype('float32'))\n",
        "faces = np.asarray(faces)\n",
        "faces = np.expand_dims(faces, -1)\n",
        "emotions = pd.get_dummies(data['emotion']).as_matrix()\n"
      ],
      "execution_count": 0,
      "outputs": []
    },
    {
      "metadata": {
        "id": "XxwmZsTPVqVR",
        "colab_type": "code",
        "colab": {
          "autoexec": {
            "startup": false,
            "wait_interval": 0
          },
          "output_extras": [
            {
              "item_id": 1
            }
          ],
          "base_uri": "https://localhost:8080/",
          "height": 214
        },
        "outputId": "9c93423a-ea49-4a84-d430-7357480e9347",
        "executionInfo": {
          "status": "error",
          "timestamp": 1521440250080,
          "user_tz": -330,
          "elapsed": 1059,
          "user": {
            "displayName": "SANDIPAN DUTTA",
            "photoUrl": "https://lh3.googleusercontent.com/a/default-user=s128",
            "userId": "102450403374348337298"
          }
        }
      },
      "cell_type": "code",
      "source": [
        "import numpy as np\n",
        "import pandas as pd\n",
        "np.save('drive/facial/face.npy',face)\n",
        "np.save('drive/facial/emotions.npy',emotions)"
      ],
      "execution_count": 3,
      "outputs": [
        {
          "output_type": "error",
          "ename": "NameError",
          "evalue": "ignored",
          "traceback": [
            "\u001b[0;31m---------------------------------------------------------------------------\u001b[0m",
            "\u001b[0;31mNameError\u001b[0m                                 Traceback (most recent call last)",
            "\u001b[0;32m<ipython-input-3-6e578ecd5645>\u001b[0m in \u001b[0;36m<module>\u001b[0;34m()\u001b[0m\n\u001b[1;32m      1\u001b[0m \u001b[0;32mimport\u001b[0m \u001b[0mnumpy\u001b[0m \u001b[0;32mas\u001b[0m \u001b[0mnp\u001b[0m\u001b[0;34m\u001b[0m\u001b[0m\n\u001b[1;32m      2\u001b[0m \u001b[0;32mimport\u001b[0m \u001b[0mpandas\u001b[0m \u001b[0;32mas\u001b[0m \u001b[0mpd\u001b[0m\u001b[0;34m\u001b[0m\u001b[0m\n\u001b[0;32m----> 3\u001b[0;31m \u001b[0mnp\u001b[0m\u001b[0;34m.\u001b[0m\u001b[0msave\u001b[0m\u001b[0;34m(\u001b[0m\u001b[0;34m'drive/facial/face.npy'\u001b[0m\u001b[0;34m,\u001b[0m\u001b[0mface\u001b[0m\u001b[0;34m)\u001b[0m\u001b[0;34m\u001b[0m\u001b[0m\n\u001b[0m\u001b[1;32m      4\u001b[0m \u001b[0mnp\u001b[0m\u001b[0;34m.\u001b[0m\u001b[0msave\u001b[0m\u001b[0;34m(\u001b[0m\u001b[0;34m'drive/facial/emotions.npy'\u001b[0m\u001b[0;34m,\u001b[0m\u001b[0memotions\u001b[0m\u001b[0;34m)\u001b[0m\u001b[0;34m\u001b[0m\u001b[0m\n",
            "\u001b[0;31mNameError\u001b[0m: name 'face' is not defined"
          ]
        }
      ]
    },
    {
      "metadata": {
        "id": "cIBOzSmxV5cl",
        "colab_type": "code",
        "colab": {
          "autoexec": {
            "startup": false,
            "wait_interval": 0
          },
          "output_extras": [
            {}
          ],
          "base_uri": "https://localhost:8080/",
          "height": 34
        },
        "outputId": "4149a9df-d984-4e1f-b535-a7fb9fe57e6f",
        "executionInfo": {
          "status": "ok",
          "timestamp": 1521128833465,
          "user_tz": -330,
          "elapsed": 881,
          "user": {
            "displayName": "SANDIPAN DUTTA",
            "photoUrl": "https://lh3.googleusercontent.com/a/default-user=s128",
            "userId": "102450403374348337298"
          }
        }
      },
      "cell_type": "code",
      "source": [
        "emotions.shape"
      ],
      "execution_count": 0,
      "outputs": [
        {
          "output_type": "execute_result",
          "data": {
            "text/plain": [
              "(35887, 7)"
            ]
          },
          "metadata": {
            "tags": []
          },
          "execution_count": 19
        }
      ]
    },
    {
      "metadata": {
        "id": "a6s2VVt6EnIw",
        "colab_type": "code",
        "colab": {
          "autoexec": {
            "startup": false,
            "wait_interval": 0
          },
          "output_extras": [
            {
              "item_id": 1
            },
            {
              "item_id": 2
            }
          ],
          "base_uri": "https://localhost:8080/",
          "height": 119
        },
        "outputId": "9547bee7-987f-4045-eea7-1c7bce831725",
        "executionInfo": {
          "status": "ok",
          "timestamp": 1521441830561,
          "user_tz": -330,
          "elapsed": 9941,
          "user": {
            "displayName": "SANDIPAN DUTTA",
            "photoUrl": "https://lh3.googleusercontent.com/a/default-user=s128",
            "userId": "102450403374348337298"
          }
        }
      },
      "cell_type": "code",
      "source": [
        "!pip install keras\n",
        "import numpy as np\n",
        "import pandas as pd\n",
        "from keras.datasets import mnist\n",
        "from keras.models import Sequential\n",
        "from keras.layers.core import Dense, Dropout, Activation, Flatten\n",
        "from keras.layers.convolutional import Convolution2D, MaxPooling2D\n",
        "from keras.utils import np_utils\n",
        "from keras.regularizers import l2\n",
        "from keras.optimizers import SGD, RMSprop\n",
        "\n"
      ],
      "execution_count": 9,
      "outputs": [
        {
          "output_type": "stream",
          "text": [
            "Requirement already satisfied: keras in /usr/local/lib/python3.6/dist-packages\r\n",
            "Requirement already satisfied: six>=1.9.0 in /usr/local/lib/python3.6/dist-packages (from keras)\r\n",
            "Requirement already satisfied: pyyaml in /usr/local/lib/python3.6/dist-packages (from keras)\r\n",
            "Requirement already satisfied: scipy>=0.14 in /usr/local/lib/python3.6/dist-packages (from keras)\r\n",
            "Requirement already satisfied: numpy>=1.9.1 in /usr/local/lib/python3.6/dist-packages (from keras)\r\n"
          ],
          "name": "stdout"
        },
        {
          "output_type": "stream",
          "text": [
            "Using TensorFlow backend.\n"
          ],
          "name": "stderr"
        }
      ]
    },
    {
      "metadata": {
        "id": "NWSfNBe1VoXu",
        "colab_type": "code",
        "colab": {
          "autoexec": {
            "startup": false,
            "wait_interval": 0
          }
        }
      },
      "cell_type": "code",
      "source": [
        ""
      ],
      "execution_count": 0,
      "outputs": []
    },
    {
      "metadata": {
        "id": "CY-LFJgpGI_e",
        "colab_type": "code",
        "colab": {
          "autoexec": {
            "startup": false,
            "wait_interval": 0
          }
        }
      },
      "cell_type": "code",
      "source": [
        "np.random.seed(2222)  # for reproducibility\n",
        "\n",
        "#Load the scaled data, both pixels and labels\n",
        "X_train = np.load('drive/facial/data/Scaled.bin.npy')\n",
        "Y = np.load('drive/facial/data/labels.bin.npy')\n"
      ],
      "execution_count": 0,
      "outputs": []
    },
    {
      "metadata": {
        "id": "fNPByJnUUb1E",
        "colab_type": "code",
        "colab": {
          "autoexec": {
            "startup": false,
            "wait_interval": 0
          },
          "output_extras": [
            {
              "item_id": 1
            }
          ],
          "base_uri": "https://localhost:8080/",
          "height": 34
        },
        "outputId": "cfe19aec-5085-46cc-e612-6bd9956a873d",
        "executionInfo": {
          "status": "ok",
          "timestamp": 1521442394846,
          "user_tz": -330,
          "elapsed": 792,
          "user": {
            "displayName": "SANDIPAN DUTTA",
            "photoUrl": "https://lh3.googleusercontent.com/a/default-user=s128",
            "userId": "102450403374348337298"
          }
        }
      },
      "cell_type": "code",
      "source": [
        "X_train.shape"
      ],
      "execution_count": 16,
      "outputs": [
        {
          "output_type": "execute_result",
          "data": {
            "text/plain": [
              "(35887, 2304)"
            ]
          },
          "metadata": {
            "tags": []
          },
          "execution_count": 16
        }
      ]
    },
    {
      "metadata": {
        "id": "0H6bGeoUUhw3",
        "colab_type": "code",
        "colab": {
          "autoexec": {
            "startup": false,
            "wait_interval": 0
          },
          "output_extras": [
            {
              "item_id": 1
            }
          ],
          "base_uri": "https://localhost:8080/",
          "height": 34
        },
        "outputId": "7d60f2d2-d260-44ea-cffb-3ba1a5b3ecb7",
        "executionInfo": {
          "status": "ok",
          "timestamp": 1521442396046,
          "user_tz": -330,
          "elapsed": 1024,
          "user": {
            "displayName": "SANDIPAN DUTTA",
            "photoUrl": "https://lh3.googleusercontent.com/a/default-user=s128",
            "userId": "102450403374348337298"
          }
        }
      },
      "cell_type": "code",
      "source": [
        "Y.shape"
      ],
      "execution_count": 17,
      "outputs": [
        {
          "output_type": "execute_result",
          "data": {
            "text/plain": [
              "(35887,)"
            ]
          },
          "metadata": {
            "tags": []
          },
          "execution_count": 17
        }
      ]
    },
    {
      "metadata": {
        "id": "4h-gr5_yHZVt",
        "colab_type": "code",
        "colab": {
          "autoexec": {
            "startup": false,
            "wait_interval": 0
          }
        }
      },
      "cell_type": "code",
      "source": [
        "for i in range(35887):\n",
        "  if Y[i]==0:\n",
        "    Y[i]=0\n",
        "  elif Y[i]==1:\n",
        "    Y[i]=0\n",
        "  elif Y[i]==2:\n",
        "    Y[i]=0\n",
        "  elif Y[i]==3:\n",
        "    Y[i]=1\n",
        "  elif Y[i]==4:\n",
        "    Y[i]=0\n",
        "  elif Y[i]==5:\n",
        "    Y[i]=1\n",
        "  elif Y[i]==6:\n",
        "    Y[i]=1"
      ],
      "execution_count": 0,
      "outputs": []
    },
    {
      "metadata": {
        "id": "eDrPVDmZGxvI",
        "colab_type": "code",
        "colab": {
          "autoexec": {
            "startup": false,
            "wait_interval": 0
          }
        }
      },
      "cell_type": "code",
      "source": [
        "#reshape the given pixels into 48 X 48 images\n",
        "shapex , shapey = 48, 48\n",
        "X_train = X_train.reshape(X_train.shape[0] ,  shapex , shapey,1)\n",
        "\n",
        "#convert labels to one-hot-encoding\n",
        "Y = np_utils.to_categorical(Y)\n"
      ],
      "execution_count": 0,
      "outputs": []
    },
    {
      "metadata": {
        "id": "RFRZmoSkIW-D",
        "colab_type": "code",
        "colab": {
          "autoexec": {
            "startup": false,
            "wait_interval": 0
          },
          "output_extras": [
            {
              "item_id": 1
            }
          ],
          "base_uri": "https://localhost:8080/",
          "height": 34
        },
        "outputId": "54774180-39ee-4272-d1f7-4b29b27976e1",
        "executionInfo": {
          "status": "ok",
          "timestamp": 1521442422562,
          "user_tz": -330,
          "elapsed": 983,
          "user": {
            "displayName": "SANDIPAN DUTTA",
            "photoUrl": "https://lh3.googleusercontent.com/a/default-user=s128",
            "userId": "102450403374348337298"
          }
        }
      },
      "cell_type": "code",
      "source": [
        "Y.shape"
      ],
      "execution_count": 20,
      "outputs": [
        {
          "output_type": "execute_result",
          "data": {
            "text/plain": [
              "(35887, 2)"
            ]
          },
          "metadata": {
            "tags": []
          },
          "execution_count": 20
        }
      ]
    },
    {
      "metadata": {
        "id": "VsWafYzzG0-K",
        "colab_type": "code",
        "colab": {
          "autoexec": {
            "startup": false,
            "wait_interval": 0
          }
        }
      },
      "cell_type": "code",
      "source": [
        "\"\"\"\n",
        "Best performing model till now. Added layers to the webcamemocognizer one.\n",
        "\"\"\"\n",
        "\n",
        "\n",
        "model = Sequential()\n",
        "model.add(Convolution2D(32, (3, 3), padding='valid', input_shape=(48,48,1)))\n",
        "model.add(Activation('relu'))\n",
        "model.add(MaxPooling2D(pool_size=(2, 2)))\n",
        "\n",
        "model.add(Convolution2D(64,(3,3),padding='valid',activation='relu'))\n",
        "#model.add(Activation('relu'))\n",
        "model.add(MaxPooling2D(pool_size=(2, 2)))\n",
        "\n",
        "model.add(Convolution2D(128,(3,3),padding='valid'))\n",
        "model.add(Activation('relu'))\n",
        "model.add(MaxPooling2D(pool_size=(2, 2)))\n",
        "\n",
        "model.add(Convolution2D(256,(3,3),padding='valid'))\n",
        "model.add(Activation('relu'))\n",
        "model.add(MaxPooling2D(pool_size=(2, 2)))\n",
        "\n",
        "model.add(Flatten())\n",
        "model.add(Dense(128,kernel_initializer=\"lecun_uniform\"))\n",
        "#model.add(Dense(128))\n",
        "model.add(Activation('relu'))\n",
        "model.add(Dense(2))\n",
        "model.add(Activation('softmax'))\n"
      ],
      "execution_count": 0,
      "outputs": []
    },
    {
      "metadata": {
        "id": "XGj1YDIFHRJf",
        "colab_type": "code",
        "colab": {
          "autoexec": {
            "startup": false,
            "wait_interval": 0
          }
        }
      },
      "cell_type": "code",
      "source": [
        ""
      ],
      "execution_count": 0,
      "outputs": []
    },
    {
      "metadata": {
        "id": "BLrK50kJKkA-",
        "colab_type": "code",
        "colab": {
          "autoexec": {
            "startup": false,
            "wait_interval": 0
          }
        }
      },
      "cell_type": "code",
      "source": [
        "\"\"\"\n",
        "From Blog.\n",
        "\"\"\"\n",
        "\n",
        "from keras.layers import Activation, Convolution2D, Dropout, Conv2D\n",
        "from keras.layers import AveragePooling2D, BatchNormalization\n",
        "from keras.layers import GlobalAveragePooling2D\n",
        "from keras.models import Sequential\n",
        "from keras.layers import Flatten\n",
        "from keras.models import Model\n",
        "from keras.layers import Input\n",
        "from keras.layers import MaxPooling2D\n",
        "from keras.layers import SeparableConv2D\n",
        "from keras import layers\n",
        "from keras.regularizers import l2\n",
        "model = Sequential()\n",
        " \n",
        "#1st convolution layer\n",
        "model.add(Conv2D(64, (5, 5), activation='relu',padding='valid', input_shape=(48,48,1)))\n",
        "model.add(MaxPooling2D(pool_size=(5,5), strides=(2, 2)))\n",
        " \n",
        "#2nd convolution layer\n",
        "model.add(Conv2D(64, (3, 3), activation='relu',padding='valid'))\n",
        "model.add(Conv2D(64, (3, 3), activation='relu',padding='valid'))\n",
        "model.add(MaxPooling2D(pool_size=(3,3), strides=(2, 2)))\n",
        " \n",
        "#3rd convolution layer\n",
        "model.add(Conv2D(128, (3, 3), activation='relu',padding='valid'))\n",
        "model.add(Conv2D(128, (3, 3), activation='relu',padding='valid'))\n",
        "model.add(MaxPooling2D(pool_size=(3,3), strides=(2, 2)))\n",
        " \n",
        "model.add(Flatten())\n",
        " \n",
        "#fully connected neural networks\n",
        "model.add(Dense(1024, activation='relu'))\n",
        "model.add(Dense(1024, activation='relu'))\n",
        " \n",
        "model.add(Dense(2, activation='softmax'))"
      ],
      "execution_count": 0,
      "outputs": []
    },
    {
      "metadata": {
        "id": "SOP4Z0eOKq_x",
        "colab_type": "code",
        "colab": {
          "autoexec": {
            "startup": false,
            "wait_interval": 0
          },
          "output_extras": [
            {
              "item_id": 1
            }
          ],
          "base_uri": "https://localhost:8080/",
          "height": 544
        },
        "outputId": "8bf19d1a-ff94-4520-8996-b18995e5a0cd",
        "executionInfo": {
          "status": "ok",
          "timestamp": 1521261437750,
          "user_tz": -330,
          "elapsed": 1215,
          "user": {
            "displayName": "SANDIPAN DUTTA",
            "photoUrl": "https://lh3.googleusercontent.com/a/default-user=s128",
            "userId": "102450403374348337298"
          }
        }
      },
      "cell_type": "code",
      "source": [
        "\n",
        "model.summary()"
      ],
      "execution_count": 25,
      "outputs": [
        {
          "output_type": "stream",
          "text": [
            "_________________________________________________________________\n",
            "Layer (type)                 Output Shape              Param #   \n",
            "=================================================================\n",
            "conv2d_9 (Conv2D)            (None, 44, 44, 64)        1664      \n",
            "_________________________________________________________________\n",
            "max_pooling2d_9 (MaxPooling2 (None, 20, 20, 64)        0         \n",
            "_________________________________________________________________\n",
            "conv2d_10 (Conv2D)           (None, 18, 18, 64)        36928     \n",
            "_________________________________________________________________\n",
            "conv2d_11 (Conv2D)           (None, 16, 16, 64)        36928     \n",
            "_________________________________________________________________\n",
            "max_pooling2d_10 (MaxPooling (None, 7, 7, 64)          0         \n",
            "_________________________________________________________________\n",
            "conv2d_12 (Conv2D)           (None, 5, 5, 128)         73856     \n",
            "_________________________________________________________________\n",
            "conv2d_13 (Conv2D)           (None, 3, 3, 128)         147584    \n",
            "_________________________________________________________________\n",
            "max_pooling2d_11 (MaxPooling (None, 1, 1, 128)         0         \n",
            "_________________________________________________________________\n",
            "flatten_3 (Flatten)          (None, 128)               0         \n",
            "_________________________________________________________________\n",
            "dense_5 (Dense)              (None, 1024)              132096    \n",
            "_________________________________________________________________\n",
            "dense_6 (Dense)              (None, 1024)              1049600   \n",
            "_________________________________________________________________\n",
            "dense_7 (Dense)              (None, 2)                 2050      \n",
            "=================================================================\n",
            "Total params: 1,480,706\n",
            "Trainable params: 1,480,706\n",
            "Non-trainable params: 0\n",
            "_________________________________________________________________\n"
          ],
          "name": "stdout"
        }
      ]
    },
    {
      "metadata": {
        "id": "RBJX9r9rOrVu",
        "colab_type": "code",
        "colab": {
          "autoexec": {
            "startup": false,
            "wait_interval": 0
          }
        }
      },
      "cell_type": "code",
      "source": [
        "\"\"\"\n",
        "Deeper Networks\n",
        "\"\"\"\n",
        "\n",
        "from keras.layers import Activation, Convolution2D, Dropout, Conv2D\n",
        "from keras.layers import AveragePooling2D, BatchNormalization\n",
        "from keras.layers import GlobalAveragePooling2D\n",
        "from keras.models import Sequential\n",
        "from keras.layers import Flatten\n",
        "from keras.models import Model\n",
        "from keras.layers import Input\n",
        "from keras.layers import MaxPooling2D\n",
        "from keras.layers import SeparableConv2D\n",
        "from keras import layers\n",
        "from keras.regularizers import l2\n",
        "\n",
        "def simple_CNN(input_shape, num_classes):\n",
        "\n",
        "    model = Sequential()\n",
        "    model.add(Convolution2D(filters=16, kernel_size=(7, 7), padding='same',\n",
        "                            name='image_array', input_shape=input_shape))\n",
        "    model.add(BatchNormalization())\n",
        "    model.add(Convolution2D(filters=16, kernel_size=(7, 7), padding='same'))\n",
        "    #model.add(BatchNormalization())\n",
        "    model.add(Activation('relu'))\n",
        "    model.add(MaxPooling2D(pool_size=(2, 2), padding='same'))\n",
        "    model.add(Dropout(.5))\n",
        "\n",
        "    model.add(Convolution2D(filters=32, kernel_size=(5, 5), padding='same'))\n",
        "    #model.add(BatchNormalization())\n",
        "    model.add(Convolution2D(filters=32, kernel_size=(5, 5), padding='same'))\n",
        "    #model.add(BatchNormalization())\n",
        "    model.add(Activation('relu'))\n",
        "    model.add(MaxPooling2D(pool_size=(2, 2), padding='same'))\n",
        "    model.add(Dropout(.5))\n",
        "\n",
        "    model.add(Convolution2D(filters=64, kernel_size=(3, 3), padding='same'))\n",
        "    #model.add(BatchNormalization())\n",
        "    model.add(Convolution2D(filters=64, kernel_size=(3, 3), padding='same'))\n",
        "    #model.add(BatchNormalization())\n",
        "    model.add(Activation('relu'))\n",
        "    model.add(MaxPooling2D(pool_size=(2, 2), padding='same'))\n",
        "    model.add(Dropout(.5))\n",
        "\n",
        "    model.add(Convolution2D(filters=128, kernel_size=(3, 3), padding='same'))\n",
        "    #model.add(BatchNormalization())\n",
        "    model.add(Convolution2D(filters=128, kernel_size=(3, 3), padding='same'))\n",
        "    #model.add(BatchNormalization())\n",
        "    model.add(Activation('relu'))\n",
        "    model.add(MaxPooling2D(pool_size=(2, 2), padding='same'))\n",
        "    model.add(Dropout(.5))\n",
        "\n",
        "    model.add(Convolution2D(filters=256, kernel_size=(3, 3), padding='same'))\n",
        "    #model.add(BatchNormalization())\n",
        "    model.add(Convolution2D(filters=num_classes, kernel_size=(3, 3), padding='same'))\n",
        "    model.add(GlobalAveragePooling2D())\n",
        "    model.add(Activation('softmax',name='predictions'))\n",
        "    return model\n",
        "\n",
        "def big_XCEPTION(input_shape, num_classes):\n",
        "  img_input = Input(input_shape)\n",
        "  x = Conv2D(32, (3, 3), strides=(2, 2), use_bias=False)(img_input)\n",
        "  x = BatchNormalization(name='block1_conv1_bn')(x)\n",
        "  x = Activation('relu', name='block1_conv1_act')(x)\n",
        "  x = Conv2D(64, (3, 3), use_bias=False)(x)\n",
        "  x = BatchNormalization(name='block1_conv2_bn')(x)\n",
        "  x = Activation('relu', name='block1_conv2_act')(x)\n",
        "\n",
        "  residual = Conv2D(128, (1, 1), strides=(2, 2),\n",
        "                    padding='same', use_bias=False)(x)\n",
        "  residual = BatchNormalization()(residual)\n",
        "\n",
        "  x = SeparableConv2D(128, (3, 3), padding='same', use_bias=False)(x)\n",
        "  x = BatchNormalization(name='block2_sepconv1_bn')(x)\n",
        "  x = Activation('relu', name='block2_sepconv2_act')(x)\n",
        "  x = SeparableConv2D(128, (3, 3), padding='same', use_bias=False)(x)\n",
        "  x = BatchNormalization(name='block2_sepconv2_bn')(x)\n",
        "\n",
        "  x = MaxPooling2D((3, 3), strides=(2, 2), padding='same')(x)\n",
        "  x = layers.add([x, residual])\n",
        "\n",
        "  residual = Conv2D(256, (1, 1), strides=(2, 2),\n",
        "                    padding='same', use_bias=False)(x)\n",
        "  residual = BatchNormalization()(residual)\n",
        "\n",
        "  x = Activation('relu', name='block3_sepconv1_act')(x)\n",
        "  x = SeparableConv2D(256, (3, 3), padding='same', use_bias=False)(x)\n",
        "  x = BatchNormalization(name='block3_sepconv1_bn')(x)\n",
        "  x = Activation('relu', name='block3_sepconv2_act')(x)\n",
        "  x = SeparableConv2D(256, (3, 3), padding='same', use_bias=False)(x)\n",
        "  x = BatchNormalization(name='block3_sepconv2_bn')(x)\n",
        "\n",
        "  x = MaxPooling2D((3, 3), strides=(2, 2), padding='same')(x)\n",
        "  x = layers.add([x, residual])\n",
        "  x = Conv2D(num_classes, (3, 3),\n",
        "          #kernel_regularizer=regularization,\n",
        "          padding='same')(x)\n",
        "  x = GlobalAveragePooling2D()(x)\n",
        "  output = Activation('softmax',name='predictions')(x)\n",
        "\n",
        "  model = Model(img_input, output)\n",
        "  return model\n",
        "\n",
        "\n",
        "def mini_XCEPTION(input_shape, num_classes, l2_regularization=0.01):\n",
        "    regularization = l2(l2_regularization)\n",
        "\n",
        "    # base\n",
        "    img_input = Input(input_shape)\n",
        "    x = Conv2D(8, (3, 3), strides=(1, 1), kernel_regularizer=regularization,\n",
        "                                            use_bias=False)(img_input)\n",
        "    x = BatchNormalization()(x)\n",
        "    x = Activation('relu')(x)\n",
        "    x = Conv2D(8, (3, 3), strides=(1, 1), kernel_regularizer=regularization,\n",
        "                                            use_bias=False)(x)\n",
        "    x = BatchNormalization()(x)\n",
        "    x = Activation('relu')(x)\n",
        "\n",
        "    # module 1\n",
        "    residual = Conv2D(16, (1, 1), strides=(2, 2),\n",
        "                      padding='same', use_bias=False)(x)\n",
        "    residual = BatchNormalization()(residual)\n",
        "\n",
        "    x = SeparableConv2D(16, (3, 3), padding='same',\n",
        "                        kernel_regularizer=regularization,\n",
        "                        use_bias=False)(x)\n",
        "    x = BatchNormalization()(x)\n",
        "    x = Activation('relu')(x)\n",
        "    x = SeparableConv2D(16, (3, 3), padding='same',\n",
        "                        kernel_regularizer=regularization,\n",
        "                        use_bias=False)(x)\n",
        "    x = BatchNormalization()(x)\n",
        "\n",
        "    x = MaxPooling2D((3, 3), strides=(2, 2), padding='same')(x)\n",
        "    x = layers.add([x, residual])\n",
        "\n",
        "    # module 2\n",
        "    residual = Conv2D(32, (1, 1), strides=(2, 2),\n",
        "                      padding='same', use_bias=False)(x)\n",
        "    residual = BatchNormalization()(residual)\n",
        "\n",
        "    x = SeparableConv2D(32, (3, 3), padding='same',\n",
        "                        kernel_regularizer=regularization,\n",
        "                        use_bias=False)(x)\n",
        "    x = BatchNormalization()(x)\n",
        "    x = Activation('relu')(x)\n",
        "    x = SeparableConv2D(32, (3, 3), padding='same',\n",
        "                        kernel_regularizer=regularization,\n",
        "                        use_bias=False)(x)\n",
        "    x = BatchNormalization()(x)\n",
        "\n",
        "    x = MaxPooling2D((3, 3), strides=(2, 2), padding='same')(x)\n",
        "    x = layers.add([x, residual])\n",
        "\n",
        "    # module 3\n",
        "    residual = Conv2D(64, (1, 1), strides=(2, 2),\n",
        "                      padding='same', use_bias=False)(x)\n",
        "    residual = BatchNormalization()(residual)\n",
        "\n",
        "    x = SeparableConv2D(64, (3, 3), padding='same',\n",
        "                        kernel_regularizer=regularization,\n",
        "                        use_bias=False)(x)\n",
        "    x = BatchNormalization()(x)\n",
        "    x = Activation('relu')(x)\n",
        "    x = SeparableConv2D(64, (3, 3), padding='same',\n",
        "                        kernel_regularizer=regularization,\n",
        "                        use_bias=False)(x)\n",
        "    x = BatchNormalization()(x)\n",
        "\n",
        "    x = MaxPooling2D((3, 3), strides=(2, 2), padding='same')(x)\n",
        "    x = layers.add([x, residual])\n",
        "\n",
        "    # module 4\n",
        "    residual = Conv2D(128, (1, 1), strides=(2, 2),\n",
        "                      padding='same', use_bias=False)(x)\n",
        "    residual = BatchNormalization()(residual)\n",
        "\n",
        "    x = SeparableConv2D(128, (3, 3), padding='same',\n",
        "                        kernel_regularizer=regularization,\n",
        "                        use_bias=False)(x)\n",
        "    x = BatchNormalization()(x)\n",
        "    x = Activation('relu')(x)\n",
        "    x = SeparableConv2D(128, (3, 3), padding='same',\n",
        "                        kernel_regularizer=regularization,\n",
        "                        use_bias=False)(x)\n",
        "    x = BatchNormalization()(x)\n",
        "\n",
        "    x = MaxPooling2D((3, 3), strides=(2, 2), padding='same')(x)\n",
        "    x = layers.add([x, residual])\n",
        "\n",
        "    x = Conv2D(num_classes, (3, 3),\n",
        "            #kernel_regularizer=regularization,\n",
        "            padding='same')(x)\n",
        "    x = GlobalAveragePooling2D()(x)\n",
        "    output = Activation('softmax',name='predictions')(x)\n",
        "\n",
        "    model = Model(img_input, output)\n",
        "    return model\n"
      ],
      "execution_count": 0,
      "outputs": []
    },
    {
      "metadata": {
        "id": "L3Mk5w2bQl2B",
        "colab_type": "code",
        "colab": {
          "autoexec": {
            "startup": false,
            "wait_interval": 0
          },
          "output_extras": [
            {
              "item_id": 1
            }
          ],
          "base_uri": "https://localhost:8080/",
          "height": 986
        },
        "outputId": "8520b214-f3a1-4113-a2ec-70d21df34f6d",
        "executionInfo": {
          "status": "ok",
          "timestamp": 1521268156943,
          "user_tz": -330,
          "elapsed": 1268,
          "user": {
            "displayName": "SANDIPAN DUTTA",
            "photoUrl": "https://lh3.googleusercontent.com/a/default-user=s128",
            "userId": "102450403374348337298"
          }
        }
      },
      "cell_type": "code",
      "source": [
        "#input_shape = (48, 48, 1)\n",
        "num_classes = 2\n",
        "#model = tiny_XCEPTION(input_shape, num_classes)\n",
        "#model.summary()\n",
        "#model = mini_XCEPTION(input_shape, num_classes)\n",
        "#model.summary()\n",
        "#model = big_XCEPTION(input_shape, num_classes)\n",
        "#model.summary()\n",
        "model = simple_CNN((48, 48, 1), num_classes)\n",
        "model.summary()"
      ],
      "execution_count": 38,
      "outputs": [
        {
          "output_type": "stream",
          "text": [
            "_________________________________________________________________\n",
            "Layer (type)                 Output Shape              Param #   \n",
            "=================================================================\n",
            "image_array (Conv2D)         (None, 48, 48, 16)        800       \n",
            "_________________________________________________________________\n",
            "batch_normalization_1 (Batch (None, 48, 48, 16)        64        \n",
            "_________________________________________________________________\n",
            "conv2d_14 (Conv2D)           (None, 48, 48, 16)        12560     \n",
            "_________________________________________________________________\n",
            "activation_7 (Activation)    (None, 48, 48, 16)        0         \n",
            "_________________________________________________________________\n",
            "max_pooling2d_12 (MaxPooling (None, 24, 24, 16)        0         \n",
            "_________________________________________________________________\n",
            "dropout_3 (Dropout)          (None, 24, 24, 16)        0         \n",
            "_________________________________________________________________\n",
            "conv2d_15 (Conv2D)           (None, 24, 24, 32)        12832     \n",
            "_________________________________________________________________\n",
            "conv2d_16 (Conv2D)           (None, 24, 24, 32)        25632     \n",
            "_________________________________________________________________\n",
            "activation_8 (Activation)    (None, 24, 24, 32)        0         \n",
            "_________________________________________________________________\n",
            "max_pooling2d_13 (MaxPooling (None, 12, 12, 32)        0         \n",
            "_________________________________________________________________\n",
            "dropout_4 (Dropout)          (None, 12, 12, 32)        0         \n",
            "_________________________________________________________________\n",
            "conv2d_17 (Conv2D)           (None, 12, 12, 64)        18496     \n",
            "_________________________________________________________________\n",
            "conv2d_18 (Conv2D)           (None, 12, 12, 64)        36928     \n",
            "_________________________________________________________________\n",
            "activation_9 (Activation)    (None, 12, 12, 64)        0         \n",
            "_________________________________________________________________\n",
            "max_pooling2d_14 (MaxPooling (None, 6, 6, 64)          0         \n",
            "_________________________________________________________________\n",
            "dropout_5 (Dropout)          (None, 6, 6, 64)          0         \n",
            "_________________________________________________________________\n",
            "conv2d_19 (Conv2D)           (None, 6, 6, 128)         73856     \n",
            "_________________________________________________________________\n",
            "conv2d_20 (Conv2D)           (None, 6, 6, 128)         147584    \n",
            "_________________________________________________________________\n",
            "activation_10 (Activation)   (None, 6, 6, 128)         0         \n",
            "_________________________________________________________________\n",
            "max_pooling2d_15 (MaxPooling (None, 3, 3, 128)         0         \n",
            "_________________________________________________________________\n",
            "dropout_6 (Dropout)          (None, 3, 3, 128)         0         \n",
            "_________________________________________________________________\n",
            "conv2d_21 (Conv2D)           (None, 3, 3, 256)         295168    \n",
            "_________________________________________________________________\n",
            "conv2d_22 (Conv2D)           (None, 3, 3, 2)           4610      \n",
            "_________________________________________________________________\n",
            "global_average_pooling2d_1 ( (None, 2)                 0         \n",
            "_________________________________________________________________\n",
            "predictions (Activation)     (None, 2)                 0         \n",
            "=================================================================\n",
            "Total params: 628,530\n",
            "Trainable params: 628,498\n",
            "Non-trainable params: 32\n",
            "_________________________________________________________________\n"
          ],
          "name": "stdout"
        }
      ]
    },
    {
      "metadata": {
        "id": "b9jbQjOrHDpy",
        "colab_type": "code",
        "colab": {
          "autoexec": {
            "startup": false,
            "wait_interval": 0
          }
        }
      },
      "cell_type": "code",
      "source": [
        "sgd = SGD(lr=0.01, decay=1e-6, momentum=0.9, nesterov=True)\n"
      ],
      "execution_count": 0,
      "outputs": []
    },
    {
      "metadata": {
        "id": "2nLQjbz4WYKs",
        "colab_type": "code",
        "colab": {
          "autoexec": {
            "startup": false,
            "wait_interval": 0
          }
        }
      },
      "cell_type": "code",
      "source": [
        "from keras.optimizers import Adam\n",
        "optimizer =Adam(lr=0.01, beta_1=0.9, beta_2=0.999, epsilon=None, decay=0.0)\n"
      ],
      "execution_count": 0,
      "outputs": []
    },
    {
      "metadata": {
        "id": "cbs_Vp_KHYGx",
        "colab_type": "code",
        "colab": {
          "autoexec": {
            "startup": false,
            "wait_interval": 0
          }
        }
      },
      "cell_type": "code",
      "source": [
        "model.compile(loss='binary_crossentropy', optimizer=sgd)\n"
      ],
      "execution_count": 0,
      "outputs": []
    },
    {
      "metadata": {
        "id": "Kzp-m-3wXcF6",
        "colab_type": "code",
        "colab": {
          "autoexec": {
            "startup": false,
            "wait_interval": 0
          }
        }
      },
      "cell_type": "code",
      "source": [
        "model.load_weights('drive/facial/deep_model_weights_normal.h5py')"
      ],
      "execution_count": 0,
      "outputs": []
    },
    {
      "metadata": {
        "id": "OV1JxNu0SR-v",
        "colab_type": "code",
        "colab": {
          "autoexec": {
            "startup": false,
            "wait_interval": 0
          }
        }
      },
      "cell_type": "code",
      "source": [
        ""
      ],
      "execution_count": 0,
      "outputs": []
    },
    {
      "metadata": {
        "id": "qU_EyQJiSwlA",
        "colab_type": "code",
        "colab": {
          "autoexec": {
            "startup": false,
            "wait_interval": 0
          }
        }
      },
      "cell_type": "code",
      "source": [
        ""
      ],
      "execution_count": 0,
      "outputs": []
    },
    {
      "metadata": {
        "id": "7d9Bv82RFXJH",
        "colab_type": "code",
        "colab": {
          "autoexec": {
            "startup": false,
            "wait_interval": 0
          }
        }
      },
      "cell_type": "code",
      "source": [
        ""
      ],
      "execution_count": 0,
      "outputs": []
    },
    {
      "metadata": {
        "id": "uN6G-qESHZ05",
        "colab_type": "code",
        "colab": {
          "autoexec": {
            "startup": false,
            "wait_interval": 0
          },
          "output_extras": [
            {
              "item_id": 93
            },
            {
              "item_id": 175
            },
            {
              "item_id": 245
            },
            {
              "item_id": 321
            },
            {
              "item_id": 368
            },
            {
              "item_id": 369
            }
          ],
          "base_uri": "https://localhost:8080/",
          "height": 394
        },
        "outputId": "48d35acc-6401-4967-86fd-8c1ad2efaf78",
        "executionInfo": {
          "status": "ok",
          "timestamp": 1521443569013,
          "user_tz": -330,
          "elapsed": 155337,
          "user": {
            "displayName": "SANDIPAN DUTTA",
            "photoUrl": "https://lh3.googleusercontent.com/a/default-user=s128",
            "userId": "102450403374348337298"
          }
        }
      },
      "cell_type": "code",
      "source": [
        "model.fit(X_train,Y , batch_size=32 , epochs=10)\n"
      ],
      "execution_count": 32,
      "outputs": [
        {
          "output_type": "stream",
          "text": [
            "Epoch 1/10\n",
            "35887/35887 [==============================] - 16s 432us/step - loss: 0.0254\n",
            "Epoch 2/10\n",
            "35887/35887 [==============================] - 15s 432us/step - loss: 0.0213\n",
            "Epoch 3/10\n",
            "14624/35887 [===========>..................] - ETA: 9s - loss: 0.0222"
          ],
          "name": "stdout"
        },
        {
          "output_type": "stream",
          "text": [
            "35887/35887 [==============================] - 15s 430us/step - loss: 0.0268\n",
            "Epoch 4/10\n",
            "35887/35887 [==============================] - 15s 430us/step - loss: 0.0260\n",
            "Epoch 5/10\n",
            "22464/35887 [=================>............] - ETA: 5s - loss: 0.0237"
          ],
          "name": "stdout"
        },
        {
          "output_type": "stream",
          "text": [
            "35887/35887 [==============================] - 15s 429us/step - loss: 0.0256\n",
            "Epoch 6/10\n",
            "35887/35887 [==============================] - 15s 428us/step - loss: 0.0242\n",
            "Epoch 7/10\n",
            "24832/35887 [===================>..........] - ETA: 4s - loss: 0.0208"
          ],
          "name": "stdout"
        },
        {
          "output_type": "stream",
          "text": [
            "35887/35887 [==============================] - 15s 431us/step - loss: 0.0231\n",
            "Epoch 8/10\n",
            "35887/35887 [==============================] - 15s 431us/step - loss: 0.0225\n",
            "Epoch 9/10\n",
            "25440/35887 [====================>.........] - ETA: 4s - loss: 0.0210"
          ],
          "name": "stdout"
        },
        {
          "output_type": "stream",
          "text": [
            "35887/35887 [==============================] - 15s 429us/step - loss: 0.0218\n",
            "Epoch 10/10\n",
            "35887/35887 [==============================] - 15s 431us/step - loss: 0.0197\n"
          ],
          "name": "stdout"
        },
        {
          "output_type": "execute_result",
          "data": {
            "text/plain": [
              "<keras.callbacks.History at 0x7fbf35074a58>"
            ]
          },
          "metadata": {
            "tags": []
          },
          "execution_count": 32
        }
      ]
    },
    {
      "metadata": {
        "id": "rzHbRzehHb6c",
        "colab_type": "code",
        "colab": {
          "autoexec": {
            "startup": false,
            "wait_interval": 0
          }
        }
      },
      "cell_type": "code",
      "source": [
        "import h5py\n",
        "#json_string = model.to_json()\n",
        "model.save_weights('drive/facial/deep_model_weights_biinary_best.h5py')\n",
        "#open('drive/facial/models/Face_model_architecture.json', 'w').write(json_string)\n",
        "#model.save_weights('drive/facial/models/Face_model_weights.h5')\n"
      ],
      "execution_count": 0,
      "outputs": []
    },
    {
      "metadata": {
        "id": "cnZ0463Dh2OI",
        "colab_type": "code",
        "colab": {
          "autoexec": {
            "startup": false,
            "wait_interval": 0
          }
        }
      },
      "cell_type": "code",
      "source": [
        ""
      ],
      "execution_count": 0,
      "outputs": []
    }
  ]
}